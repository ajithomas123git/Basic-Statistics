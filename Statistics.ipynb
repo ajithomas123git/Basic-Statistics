{
 "cells": [
  {
   "cell_type": "code",
   "execution_count": 1,
   "id": "38f50c4e",
   "metadata": {
    "ExecuteTime": {
     "end_time": "2022-05-22T05:58:50.176606Z",
     "start_time": "2022-05-22T05:58:34.345049Z"
    }
   },
   "outputs": [
    {
     "data": {
      "text/plain": [
       "Ttest_indResult(statistic=-3.445612673536487, pvalue=0.006272124350809802)"
      ]
     },
     "execution_count": 1,
     "metadata": {},
     "output_type": "execute_result"
    }
   ],
   "source": [
    "import pandas as pd \n",
    "import scipy\n",
    "from scipy import stats\n",
    "\n",
    "\n",
    "Control = pd.Series([91,87,99,77,88,91])\n",
    "Treat = pd.Series([101,110,103,93,99,104])\n",
    "stats.ttest_ind(Control,Treat)\n",
    "\n",
    "# two sample t test example where Control and Treat are two set of list with data"
   ]
  },
  {
   "cell_type": "code",
   "execution_count": 2,
   "id": "53b4a53d",
   "metadata": {
    "ExecuteTime": {
     "end_time": "2022-05-18T03:15:03.370882Z",
     "start_time": "2022-05-18T03:15:03.301101Z"
    }
   },
   "outputs": [
    {
     "data": {
      "text/plain": [
       "-1.6448536269514729"
      ]
     },
     "execution_count": 2,
     "metadata": {},
     "output_type": "execute_result"
    }
   ],
   "source": [
    "stats.norm.ppf(.05)"
   ]
  },
  {
   "cell_type": "code",
   "execution_count": 6,
   "id": "ed6f1040",
   "metadata": {
    "ExecuteTime": {
     "end_time": "2022-05-20T06:00:42.998093Z",
     "start_time": "2022-05-20T06:00:42.977574Z"
    }
   },
   "outputs": [],
   "source": [
    "import numpy as np \n",
    "n1 = 247\n",
    "p1 = 0.368\n",
    "n2 = 308\n",
    "p2 = 0.389\n"
   ]
  },
  {
   "cell_type": "code",
   "execution_count": 7,
   "id": "74562c6e",
   "metadata": {
    "ExecuteTime": {
     "end_time": "2022-05-20T06:00:58.571973Z",
     "start_time": "2022-05-20T06:00:58.501368Z"
    }
   },
   "outputs": [
    {
     "data": {
      "text/plain": [
       "array([1, 1, 0, 0, 1, 0, 1, 0, 0, 0, 0, 0, 0, 0, 0, 1, 1, 1, 1, 1, 1, 0,\n",
       "       0, 1, 1, 1, 0, 1, 1, 1, 0, 1, 0, 1, 0, 0, 0, 0, 0, 0, 0, 0, 1, 0,\n",
       "       0, 1, 0, 1, 0, 1, 1, 1, 1, 0, 1, 1, 1, 1, 1, 0, 1, 1, 1, 0, 0, 0,\n",
       "       1, 0, 0, 1, 1, 0, 0, 1, 0, 0, 0, 0, 0, 0, 0, 1, 0, 0, 1, 0, 0, 1,\n",
       "       1, 1, 0, 0, 0, 0, 0, 1, 1, 1, 1, 1, 0, 0, 1, 0, 1, 1, 0, 1, 0, 0,\n",
       "       1, 1, 0, 0, 1, 0, 1, 0, 0, 0, 0, 0, 1, 0, 1, 0, 1, 0, 0, 1, 0, 1,\n",
       "       0, 0, 1, 1, 1, 1, 1, 0, 1, 1, 1, 0, 0, 0, 0, 0, 1, 1, 0, 1, 1, 0,\n",
       "       0, 1, 0, 0, 0, 0, 0, 0, 0, 0, 0, 0, 0, 1, 0, 0, 0, 0, 1, 0, 1, 0,\n",
       "       0, 0, 0, 0, 1, 1, 0, 1, 1, 1, 1, 1, 0, 1, 1, 1, 0, 0, 0, 0, 0, 1,\n",
       "       0, 0, 1, 0, 1, 0, 0, 1, 1, 0, 0, 0, 0, 1, 0, 0, 0, 0, 1, 0, 0, 0,\n",
       "       0, 1, 0, 0, 0, 0, 1, 1, 0, 0, 0, 0, 0, 0, 1, 1, 0, 0, 0, 0, 0, 0,\n",
       "       0, 0, 1, 0, 0])"
      ]
     },
     "execution_count": 7,
     "metadata": {},
     "output_type": "execute_result"
    }
   ],
   "source": [
    "state1 = np.random.binomial(1,p1,n1)  \n",
    "state1\n",
    "\n"
   ]
  },
  {
   "cell_type": "code",
   "execution_count": 8,
   "id": "c5c2d733",
   "metadata": {
    "ExecuteTime": {
     "end_time": "2022-05-20T06:01:02.328809Z",
     "start_time": "2022-05-20T06:01:02.304563Z"
    }
   },
   "outputs": [
    {
     "data": {
      "text/plain": [
       "array([1, 0, 1, 0, 0, 0, 0, 0, 0, 1, 0, 0, 0, 0, 0, 1, 1, 1, 0, 1, 0, 1,\n",
       "       1, 1, 0, 0, 1, 0, 1, 1, 1, 0, 0, 1, 0, 1, 0, 0, 0, 1, 0, 1, 0, 1,\n",
       "       0, 0, 0, 0, 0, 1, 1, 0, 1, 0, 0, 0, 0, 1, 0, 0, 1, 1, 0, 0, 0, 1,\n",
       "       1, 1, 1, 0, 0, 1, 1, 0, 1, 1, 0, 0, 0, 0, 1, 0, 1, 0, 0, 0, 0, 0,\n",
       "       1, 0, 0, 1, 1, 0, 1, 0, 0, 1, 1, 1, 0, 0, 1, 0, 0, 1, 0, 0, 1, 0,\n",
       "       1, 1, 0, 0, 1, 0, 0, 0, 1, 0, 0, 1, 1, 1, 1, 0, 0, 0, 1, 1, 0, 1,\n",
       "       1, 0, 0, 0, 0, 0, 0, 0, 0, 0, 0, 0, 0, 0, 1, 1, 1, 0, 1, 1, 0, 0,\n",
       "       1, 1, 0, 1, 1, 0, 1, 1, 0, 1, 1, 1, 0, 1, 0, 0, 1, 0, 0, 1, 1, 0,\n",
       "       1, 0, 0, 0, 1, 0, 1, 0, 1, 0, 0, 1, 0, 0, 0, 0, 1, 0, 1, 0, 0, 0,\n",
       "       1, 0, 1, 0, 1, 0, 1, 0, 0, 1, 0, 0, 1, 1, 0, 1, 0, 0, 1, 0, 1, 1,\n",
       "       0, 0, 1, 1, 0, 0, 1, 0, 1, 0, 0, 1, 1, 0, 1, 0, 0, 0, 0, 1, 1, 1,\n",
       "       0, 1, 1, 0, 1, 0, 0, 0, 1, 1, 0, 0, 0, 0, 1, 0, 0, 1, 0, 1, 0, 1,\n",
       "       1, 1, 0, 0, 0, 0, 1, 0, 0, 0, 1, 0, 0, 0, 0, 0, 1, 0, 0, 0, 1, 1,\n",
       "       0, 0, 1, 1, 0, 0, 0, 0, 0, 0, 0, 1, 0, 1, 1, 0, 0, 0, 0, 0, 0, 1])"
      ]
     },
     "execution_count": 8,
     "metadata": {},
     "output_type": "execute_result"
    }
   ],
   "source": [
    "state2 =np.random.binomial(1,p2,n2)\n",
    "state2"
   ]
  },
  {
   "cell_type": "code",
   "execution_count": 9,
   "id": "d186e5ec",
   "metadata": {
    "ExecuteTime": {
     "end_time": "2022-05-20T06:01:06.354613Z",
     "start_time": "2022-05-20T06:01:06.180267Z"
    }
   },
   "outputs": [
    {
     "data": {
      "text/plain": [
       "(-0.11992373495350005, 0.9045871175024597, 553.0)"
      ]
     },
     "execution_count": 9,
     "metadata": {},
     "output_type": "execute_result"
    }
   ],
   "source": [
    "import statsmodels.api as sm \n",
    "import scipy as stats\n",
    "sm.stats.ttest_ind(state1,state2)\n"
   ]
  },
  {
   "cell_type": "code",
   "execution_count": 3,
   "id": "2cc97d95",
   "metadata": {
    "ExecuteTime": {
     "end_time": "2022-05-16T07:53:15.798328Z",
     "start_time": "2022-05-16T07:53:15.770205Z"
    }
   },
   "outputs": [
    {
     "data": {
      "text/plain": [
       "1.6448536269514722"
      ]
     },
     "execution_count": 3,
     "metadata": {},
     "output_type": "execute_result"
    }
   ],
   "source": [
    "stats.norm.ppf(.95) # Z score at 90% confidence interval"
   ]
  },
  {
   "cell_type": "code",
   "execution_count": 4,
   "id": "44aa18d7",
   "metadata": {
    "ExecuteTime": {
     "end_time": "2022-05-16T07:55:18.691604Z",
     "start_time": "2022-05-16T07:55:18.682980Z"
    }
   },
   "outputs": [
    {
     "data": {
      "text/plain": [
       "1.8807936081512509"
      ]
     },
     "execution_count": 4,
     "metadata": {},
     "output_type": "execute_result"
    }
   ],
   "source": [
    "stats.norm.ppf(.97) # Z score at 94% confidence interval"
   ]
  },
  {
   "cell_type": "code",
   "execution_count": 5,
   "id": "306788c9",
   "metadata": {
    "ExecuteTime": {
     "end_time": "2022-05-16T07:56:02.353076Z",
     "start_time": "2022-05-16T07:56:02.343078Z"
    }
   },
   "outputs": [
    {
     "data": {
      "text/plain": [
       "0.8416212335729143"
      ]
     },
     "execution_count": 5,
     "metadata": {},
     "output_type": "execute_result"
    }
   ],
   "source": [
    "stats.norm.ppf(.80) # Z score at 60% confidence  interval"
   ]
  },
  {
   "cell_type": "code",
   "execution_count": 5,
   "id": "296397b6",
   "metadata": {
    "ExecuteTime": {
     "end_time": "2022-05-16T14:47:17.905220Z",
     "start_time": "2022-05-16T14:47:17.823916Z"
    }
   },
   "outputs": [
    {
     "data": {
      "text/plain": [
       "2.0638985616280205"
      ]
     },
     "execution_count": 5,
     "metadata": {},
     "output_type": "execute_result"
    }
   ],
   "source": [
    "stats.t.ppf (.975,24) # T score at 95% confidence interval when df = 24 (n-1)"
   ]
  },
  {
   "cell_type": "code",
   "execution_count": 6,
   "id": "d765b188",
   "metadata": {
    "ExecuteTime": {
     "end_time": "2022-05-16T14:51:37.516597Z",
     "start_time": "2022-05-16T14:51:37.495289Z"
    }
   },
   "outputs": [
    {
     "data": {
      "text/plain": [
       "2.1715446760080677"
      ]
     },
     "execution_count": 6,
     "metadata": {},
     "output_type": "execute_result"
    }
   ],
   "source": [
    "stats.t.ppf (.98,24) # T score at 96% confidence interval when df = 24 (n-1)"
   ]
  },
  {
   "cell_type": "code",
   "execution_count": 7,
   "id": "7af77d1f",
   "metadata": {
    "ExecuteTime": {
     "end_time": "2022-05-16T14:52:30.550679Z",
     "start_time": "2022-05-16T14:52:30.538452Z"
    }
   },
   "outputs": [
    {
     "data": {
      "text/plain": [
       "2.796939504772804"
      ]
     },
     "execution_count": 7,
     "metadata": {},
     "output_type": "execute_result"
    }
   ],
   "source": [
    "stats.t.ppf (.995,24) # T score at 99% confidence interval when df = 24 (n-1)"
   ]
  },
  {
   "cell_type": "code",
   "execution_count": 9,
   "id": "b931ecf5",
   "metadata": {
    "ExecuteTime": {
     "end_time": "2022-05-16T16:31:36.255912Z",
     "start_time": "2022-05-16T16:31:36.234805Z"
    }
   },
   "outputs": [
    {
     "data": {
      "text/plain": [
       "0.4557641189546886"
      ]
     },
     "execution_count": 9,
     "metadata": {},
     "output_type": "execute_result"
    }
   ],
   "source": [
    "stats.norm.cdf(260,270,90) # Probabilty that the average life of bulb will not last more than 260 "
   ]
  },
  {
   "cell_type": "code",
   "execution_count": 10,
   "id": "6b2a3305",
   "metadata": {
    "ExecuteTime": {
     "end_time": "2022-05-22T06:05:05.805638Z",
     "start_time": "2022-05-22T06:05:05.797634Z"
    }
   },
   "outputs": [
    {
     "data": {
      "text/plain": [
       "0.26598552904870054"
      ]
     },
     "execution_count": 10,
     "metadata": {},
     "output_type": "execute_result"
    }
   ],
   "source": [
    "1- stats.norm.cdf(50,45,8) # Probability that service manager cannot meet his commitment."
   ]
  }
 ],
 "metadata": {
  "gist": {
   "data": {
    "description": "Untitled5.ipynb",
    "public": false
   },
   "id": ""
  },
  "kernelspec": {
   "display_name": "Python 3 (ipykernel)",
   "language": "python",
   "name": "python3"
  },
  "language_info": {
   "codemirror_mode": {
    "name": "ipython",
    "version": 3
   },
   "file_extension": ".py",
   "mimetype": "text/x-python",
   "name": "python",
   "nbconvert_exporter": "python",
   "pygments_lexer": "ipython3",
   "version": "3.9.7"
  }
 },
 "nbformat": 4,
 "nbformat_minor": 5
}
